{
 "cells": [
  {
   "cell_type": "markdown",
   "id": "capable-forestry",
   "metadata": {},
   "source": [
    "## Developers Job Satisfation "
   ]
  },
  {
   "cell_type": "markdown",
   "id": "federal-concrete",
   "metadata": {},
   "source": [
    "### Introduction    \n",
    "\n",
    "Attracting and retaining talented developers is one of the main challenges for technology companies. The demand is growing rapidly, but the number of formed professionals is still limited. To understand what is important for developers when accepting a job offer and also what satisfies them professionally, let's take a look at the annual StackOverflow survey, conducted in 2020 with around 65 thousand developers around the world.    \n",
    "\n",
    "### Content\n",
    "* Accessing Data\n",
    "* Data Preparation\n",
    "* Exploratory Data Analysis    \n",
    "  * Employment and Satisfaction    \n",
    "  * Current Job Factors    \n",
    "  * Job Satisfaction X Job Seek    \n",
    "  * Job Hunting    \n"
   ]
  },
  {
   "cell_type": "code",
   "execution_count": 1,
   "id": "empty-oriental",
   "metadata": {},
   "outputs": [],
   "source": [
    "import pandas as pd\n",
    "import numpy as np\n",
    "\n",
    "import seaborn as sns\n",
    "import matplotlib.pyplot as plt\n",
    "%matplotlib inline\n",
    "import textwrap\n",
    "\n",
    "import warnings\n",
    "warnings.filterwarnings('ignore')"
   ]
  },
  {
   "cell_type": "code",
   "execution_count": 2,
   "id": "baking-chocolate",
   "metadata": {},
   "outputs": [],
   "source": [
    "# set options\n",
    "pd.set_option('display.max_columns', 61)\n",
    "pd.set_option('display.max_rows', 61)"
   ]
  },
  {
   "cell_type": "markdown",
   "id": "impaired-johnston",
   "metadata": {},
   "source": [
    "### Accessing data"
   ]
  },
  {
   "cell_type": "code",
   "execution_count": 3,
   "id": "democratic-honey",
   "metadata": {},
   "outputs": [],
   "source": [
    "# read data\n",
    "data = pd.read_csv('data/survey_results_public.csv', index_col='Respondent', na_values = ['no info', '.', 'NA', 'Missing'])\n",
    "questions = pd.read_csv('data/survey_results_schema.csv', index_col='Column') "
   ]
  },
  {
   "cell_type": "code",
   "execution_count": 4,
   "id": "reverse-passing",
   "metadata": {},
   "outputs": [
    {
     "data": {
      "text/html": [
       "<div>\n",
       "<style scoped>\n",
       "    .dataframe tbody tr th:only-of-type {\n",
       "        vertical-align: middle;\n",
       "    }\n",
       "\n",
       "    .dataframe tbody tr th {\n",
       "        vertical-align: top;\n",
       "    }\n",
       "\n",
       "    .dataframe thead th {\n",
       "        text-align: right;\n",
       "    }\n",
       "</style>\n",
       "<table border=\"1\" class=\"dataframe\">\n",
       "  <thead>\n",
       "    <tr style=\"text-align: right;\">\n",
       "      <th></th>\n",
       "      <th>QuestionText</th>\n",
       "    </tr>\n",
       "    <tr>\n",
       "      <th>Column</th>\n",
       "      <th></th>\n",
       "    </tr>\n",
       "  </thead>\n",
       "  <tbody>\n",
       "    <tr>\n",
       "      <th>Respondent</th>\n",
       "      <td>Randomized respondent ID number (not in order ...</td>\n",
       "    </tr>\n",
       "    <tr>\n",
       "      <th>MainBranch</th>\n",
       "      <td>Which of the following options best describes ...</td>\n",
       "    </tr>\n",
       "    <tr>\n",
       "      <th>Hobbyist</th>\n",
       "      <td>Do you code as a hobby?</td>\n",
       "    </tr>\n",
       "    <tr>\n",
       "      <th>Age</th>\n",
       "      <td>What is your age (in years)? If you prefer not...</td>\n",
       "    </tr>\n",
       "    <tr>\n",
       "      <th>Age1stCode</th>\n",
       "      <td>At what age did you write your first line of c...</td>\n",
       "    </tr>\n",
       "  </tbody>\n",
       "</table>\n",
       "</div>"
      ],
      "text/plain": [
       "                                                 QuestionText\n",
       "Column                                                       \n",
       "Respondent  Randomized respondent ID number (not in order ...\n",
       "MainBranch  Which of the following options best describes ...\n",
       "Hobbyist                              Do you code as a hobby?\n",
       "Age         What is your age (in years)? If you prefer not...\n",
       "Age1stCode  At what age did you write your first line of c..."
      ]
     },
     "execution_count": 4,
     "metadata": {},
     "output_type": "execute_result"
    }
   ],
   "source": [
    "# survey questions\n",
    "questions.head()"
   ]
  },
  {
   "cell_type": "code",
   "execution_count": 5,
   "id": "mounted-teddy",
   "metadata": {},
   "outputs": [
    {
     "data": {
      "text/html": [
       "<div>\n",
       "<style scoped>\n",
       "    .dataframe tbody tr th:only-of-type {\n",
       "        vertical-align: middle;\n",
       "    }\n",
       "\n",
       "    .dataframe tbody tr th {\n",
       "        vertical-align: top;\n",
       "    }\n",
       "\n",
       "    .dataframe thead th {\n",
       "        text-align: right;\n",
       "    }\n",
       "</style>\n",
       "<table border=\"1\" class=\"dataframe\">\n",
       "  <thead>\n",
       "    <tr style=\"text-align: right;\">\n",
       "      <th></th>\n",
       "      <th>MainBranch</th>\n",
       "      <th>Hobbyist</th>\n",
       "      <th>Age</th>\n",
       "      <th>Age1stCode</th>\n",
       "      <th>CompFreq</th>\n",
       "      <th>CompTotal</th>\n",
       "      <th>ConvertedComp</th>\n",
       "      <th>Country</th>\n",
       "      <th>CurrencyDesc</th>\n",
       "      <th>CurrencySymbol</th>\n",
       "      <th>DatabaseDesireNextYear</th>\n",
       "      <th>DatabaseWorkedWith</th>\n",
       "      <th>DevType</th>\n",
       "      <th>EdLevel</th>\n",
       "      <th>Employment</th>\n",
       "      <th>Ethnicity</th>\n",
       "      <th>Gender</th>\n",
       "      <th>JobFactors</th>\n",
       "      <th>JobSat</th>\n",
       "      <th>JobSeek</th>\n",
       "      <th>LanguageDesireNextYear</th>\n",
       "      <th>LanguageWorkedWith</th>\n",
       "      <th>MiscTechDesireNextYear</th>\n",
       "      <th>MiscTechWorkedWith</th>\n",
       "      <th>NEWCollabToolsDesireNextYear</th>\n",
       "      <th>NEWCollabToolsWorkedWith</th>\n",
       "      <th>NEWDevOps</th>\n",
       "      <th>NEWDevOpsImpt</th>\n",
       "      <th>NEWEdImpt</th>\n",
       "      <th>NEWJobHunt</th>\n",
       "      <th>NEWJobHuntResearch</th>\n",
       "      <th>NEWLearn</th>\n",
       "      <th>NEWOffTopic</th>\n",
       "      <th>NEWOnboardGood</th>\n",
       "      <th>NEWOtherComms</th>\n",
       "      <th>NEWOvertime</th>\n",
       "      <th>NEWPurchaseResearch</th>\n",
       "      <th>NEWPurpleLink</th>\n",
       "      <th>NEWSOSites</th>\n",
       "      <th>NEWStuck</th>\n",
       "      <th>OpSys</th>\n",
       "      <th>OrgSize</th>\n",
       "      <th>PlatformDesireNextYear</th>\n",
       "      <th>PlatformWorkedWith</th>\n",
       "      <th>PurchaseWhat</th>\n",
       "      <th>Sexuality</th>\n",
       "      <th>SOAccount</th>\n",
       "      <th>SOComm</th>\n",
       "      <th>SOPartFreq</th>\n",
       "      <th>SOVisitFreq</th>\n",
       "      <th>SurveyEase</th>\n",
       "      <th>SurveyLength</th>\n",
       "      <th>Trans</th>\n",
       "      <th>UndergradMajor</th>\n",
       "      <th>WebframeDesireNextYear</th>\n",
       "      <th>WebframeWorkedWith</th>\n",
       "      <th>WelcomeChange</th>\n",
       "      <th>WorkWeekHrs</th>\n",
       "      <th>YearsCode</th>\n",
       "      <th>YearsCodePro</th>\n",
       "    </tr>\n",
       "    <tr>\n",
       "      <th>Respondent</th>\n",
       "      <th></th>\n",
       "      <th></th>\n",
       "      <th></th>\n",
       "      <th></th>\n",
       "      <th></th>\n",
       "      <th></th>\n",
       "      <th></th>\n",
       "      <th></th>\n",
       "      <th></th>\n",
       "      <th></th>\n",
       "      <th></th>\n",
       "      <th></th>\n",
       "      <th></th>\n",
       "      <th></th>\n",
       "      <th></th>\n",
       "      <th></th>\n",
       "      <th></th>\n",
       "      <th></th>\n",
       "      <th></th>\n",
       "      <th></th>\n",
       "      <th></th>\n",
       "      <th></th>\n",
       "      <th></th>\n",
       "      <th></th>\n",
       "      <th></th>\n",
       "      <th></th>\n",
       "      <th></th>\n",
       "      <th></th>\n",
       "      <th></th>\n",
       "      <th></th>\n",
       "      <th></th>\n",
       "      <th></th>\n",
       "      <th></th>\n",
       "      <th></th>\n",
       "      <th></th>\n",
       "      <th></th>\n",
       "      <th></th>\n",
       "      <th></th>\n",
       "      <th></th>\n",
       "      <th></th>\n",
       "      <th></th>\n",
       "      <th></th>\n",
       "      <th></th>\n",
       "      <th></th>\n",
       "      <th></th>\n",
       "      <th></th>\n",
       "      <th></th>\n",
       "      <th></th>\n",
       "      <th></th>\n",
       "      <th></th>\n",
       "      <th></th>\n",
       "      <th></th>\n",
       "      <th></th>\n",
       "      <th></th>\n",
       "      <th></th>\n",
       "      <th></th>\n",
       "      <th></th>\n",
       "      <th></th>\n",
       "      <th></th>\n",
       "      <th></th>\n",
       "    </tr>\n",
       "  </thead>\n",
       "  <tbody>\n",
       "    <tr>\n",
       "      <th>1</th>\n",
       "      <td>I am a developer by profession</td>\n",
       "      <td>Yes</td>\n",
       "      <td>NaN</td>\n",
       "      <td>13</td>\n",
       "      <td>Monthly</td>\n",
       "      <td>NaN</td>\n",
       "      <td>NaN</td>\n",
       "      <td>Germany</td>\n",
       "      <td>European Euro</td>\n",
       "      <td>EUR</td>\n",
       "      <td>Microsoft SQL Server</td>\n",
       "      <td>Elasticsearch;Microsoft SQL Server;Oracle</td>\n",
       "      <td>Developer, desktop or enterprise applications;...</td>\n",
       "      <td>Master’s degree (M.A., M.S., M.Eng., MBA, etc.)</td>\n",
       "      <td>Independent contractor, freelancer, or self-em...</td>\n",
       "      <td>White or of European descent</td>\n",
       "      <td>Man</td>\n",
       "      <td>Languages, frameworks, and other technologies ...</td>\n",
       "      <td>Slightly satisfied</td>\n",
       "      <td>I am not interested in new job opportunities</td>\n",
       "      <td>C#;HTML/CSS;JavaScript</td>\n",
       "      <td>C#;HTML/CSS;JavaScript</td>\n",
       "      <td>.NET Core;Xamarin</td>\n",
       "      <td>.NET;.NET Core</td>\n",
       "      <td>Microsoft Teams;Microsoft Azure;Trello</td>\n",
       "      <td>Confluence;Jira;Slack;Microsoft Azure;Trello</td>\n",
       "      <td>No</td>\n",
       "      <td>Somewhat important</td>\n",
       "      <td>Fairly important</td>\n",
       "      <td>NaN</td>\n",
       "      <td>NaN</td>\n",
       "      <td>Once a year</td>\n",
       "      <td>Not sure</td>\n",
       "      <td>NaN</td>\n",
       "      <td>No</td>\n",
       "      <td>Often: 1-2 days per week or more</td>\n",
       "      <td>Start a free trial;Ask developers I know/work ...</td>\n",
       "      <td>Amused</td>\n",
       "      <td>Stack Overflow (public Q&amp;A for anyone who codes)</td>\n",
       "      <td>Visit Stack Overflow;Go for a walk or other ph...</td>\n",
       "      <td>Windows</td>\n",
       "      <td>2 to 9 employees</td>\n",
       "      <td>Android;iOS;Kubernetes;Microsoft Azure;Windows</td>\n",
       "      <td>Windows</td>\n",
       "      <td>NaN</td>\n",
       "      <td>Straight / Heterosexual</td>\n",
       "      <td>No</td>\n",
       "      <td>No, not at all</td>\n",
       "      <td>NaN</td>\n",
       "      <td>Multiple times per day</td>\n",
       "      <td>Neither easy nor difficult</td>\n",
       "      <td>Appropriate in length</td>\n",
       "      <td>No</td>\n",
       "      <td>Computer science, computer engineering, or sof...</td>\n",
       "      <td>ASP.NET Core</td>\n",
       "      <td>ASP.NET;ASP.NET Core</td>\n",
       "      <td>Just as welcome now as I felt last year</td>\n",
       "      <td>50.0</td>\n",
       "      <td>36</td>\n",
       "      <td>27</td>\n",
       "    </tr>\n",
       "    <tr>\n",
       "      <th>2</th>\n",
       "      <td>I am a developer by profession</td>\n",
       "      <td>No</td>\n",
       "      <td>NaN</td>\n",
       "      <td>19</td>\n",
       "      <td>NaN</td>\n",
       "      <td>NaN</td>\n",
       "      <td>NaN</td>\n",
       "      <td>United Kingdom</td>\n",
       "      <td>Pound sterling</td>\n",
       "      <td>GBP</td>\n",
       "      <td>NaN</td>\n",
       "      <td>NaN</td>\n",
       "      <td>Developer, full-stack;Developer, mobile</td>\n",
       "      <td>Bachelor’s degree (B.A., B.S., B.Eng., etc.)</td>\n",
       "      <td>Employed full-time</td>\n",
       "      <td>NaN</td>\n",
       "      <td>NaN</td>\n",
       "      <td>NaN</td>\n",
       "      <td>Very dissatisfied</td>\n",
       "      <td>I am not interested in new job opportunities</td>\n",
       "      <td>Python;Swift</td>\n",
       "      <td>JavaScript;Swift</td>\n",
       "      <td>React Native;TensorFlow;Unity 3D</td>\n",
       "      <td>React Native</td>\n",
       "      <td>Github;Slack</td>\n",
       "      <td>Confluence;Jira;Github;Gitlab;Slack</td>\n",
       "      <td>NaN</td>\n",
       "      <td>NaN</td>\n",
       "      <td>Fairly important</td>\n",
       "      <td>NaN</td>\n",
       "      <td>NaN</td>\n",
       "      <td>Once a year</td>\n",
       "      <td>Not sure</td>\n",
       "      <td>NaN</td>\n",
       "      <td>No</td>\n",
       "      <td>NaN</td>\n",
       "      <td>NaN</td>\n",
       "      <td>Amused</td>\n",
       "      <td>Stack Overflow (public Q&amp;A for anyone who code...</td>\n",
       "      <td>Visit Stack Overflow;Go for a walk or other ph...</td>\n",
       "      <td>MacOS</td>\n",
       "      <td>1,000 to 4,999 employees</td>\n",
       "      <td>iOS;Kubernetes;Linux;MacOS</td>\n",
       "      <td>iOS</td>\n",
       "      <td>I have little or no influence</td>\n",
       "      <td>NaN</td>\n",
       "      <td>Yes</td>\n",
       "      <td>Yes, definitely</td>\n",
       "      <td>Less than once per month or monthly</td>\n",
       "      <td>Multiple times per day</td>\n",
       "      <td>NaN</td>\n",
       "      <td>NaN</td>\n",
       "      <td>NaN</td>\n",
       "      <td>Computer science, computer engineering, or sof...</td>\n",
       "      <td>NaN</td>\n",
       "      <td>NaN</td>\n",
       "      <td>Somewhat more welcome now than last year</td>\n",
       "      <td>NaN</td>\n",
       "      <td>7</td>\n",
       "      <td>4</td>\n",
       "    </tr>\n",
       "    <tr>\n",
       "      <th>3</th>\n",
       "      <td>I code primarily as a hobby</td>\n",
       "      <td>Yes</td>\n",
       "      <td>NaN</td>\n",
       "      <td>15</td>\n",
       "      <td>NaN</td>\n",
       "      <td>NaN</td>\n",
       "      <td>NaN</td>\n",
       "      <td>Russian Federation</td>\n",
       "      <td>NaN</td>\n",
       "      <td>NaN</td>\n",
       "      <td>NaN</td>\n",
       "      <td>NaN</td>\n",
       "      <td>NaN</td>\n",
       "      <td>NaN</td>\n",
       "      <td>NaN</td>\n",
       "      <td>NaN</td>\n",
       "      <td>NaN</td>\n",
       "      <td>NaN</td>\n",
       "      <td>NaN</td>\n",
       "      <td>NaN</td>\n",
       "      <td>Objective-C;Python;Swift</td>\n",
       "      <td>Objective-C;Python;Swift</td>\n",
       "      <td>NaN</td>\n",
       "      <td>NaN</td>\n",
       "      <td>NaN</td>\n",
       "      <td>NaN</td>\n",
       "      <td>NaN</td>\n",
       "      <td>NaN</td>\n",
       "      <td>NaN</td>\n",
       "      <td>NaN</td>\n",
       "      <td>NaN</td>\n",
       "      <td>Once a decade</td>\n",
       "      <td>NaN</td>\n",
       "      <td>NaN</td>\n",
       "      <td>No</td>\n",
       "      <td>NaN</td>\n",
       "      <td>NaN</td>\n",
       "      <td>NaN</td>\n",
       "      <td>Stack Overflow (public Q&amp;A for anyone who codes)</td>\n",
       "      <td>NaN</td>\n",
       "      <td>Linux-based</td>\n",
       "      <td>NaN</td>\n",
       "      <td>NaN</td>\n",
       "      <td>NaN</td>\n",
       "      <td>NaN</td>\n",
       "      <td>NaN</td>\n",
       "      <td>Yes</td>\n",
       "      <td>Yes, somewhat</td>\n",
       "      <td>A few times per month or weekly</td>\n",
       "      <td>Daily or almost daily</td>\n",
       "      <td>Neither easy nor difficult</td>\n",
       "      <td>Appropriate in length</td>\n",
       "      <td>NaN</td>\n",
       "      <td>NaN</td>\n",
       "      <td>NaN</td>\n",
       "      <td>NaN</td>\n",
       "      <td>Somewhat more welcome now than last year</td>\n",
       "      <td>NaN</td>\n",
       "      <td>4</td>\n",
       "      <td>NaN</td>\n",
       "    </tr>\n",
       "  </tbody>\n",
       "</table>\n",
       "</div>"
      ],
      "text/plain": [
       "                                MainBranch Hobbyist  Age Age1stCode CompFreq  \\\n",
       "Respondent                                                                     \n",
       "1           I am a developer by profession      Yes  NaN         13  Monthly   \n",
       "2           I am a developer by profession       No  NaN         19      NaN   \n",
       "3              I code primarily as a hobby      Yes  NaN         15      NaN   \n",
       "\n",
       "            CompTotal  ConvertedComp             Country    CurrencyDesc  \\\n",
       "Respondent                                                                 \n",
       "1                 NaN            NaN             Germany   European Euro   \n",
       "2                 NaN            NaN      United Kingdom  Pound sterling   \n",
       "3                 NaN            NaN  Russian Federation             NaN   \n",
       "\n",
       "           CurrencySymbol DatabaseDesireNextYear  \\\n",
       "Respondent                                         \n",
       "1                     EUR   Microsoft SQL Server   \n",
       "2                     GBP                    NaN   \n",
       "3                     NaN                    NaN   \n",
       "\n",
       "                                   DatabaseWorkedWith  \\\n",
       "Respondent                                              \n",
       "1           Elasticsearch;Microsoft SQL Server;Oracle   \n",
       "2                                                 NaN   \n",
       "3                                                 NaN   \n",
       "\n",
       "                                                      DevType  \\\n",
       "Respondent                                                      \n",
       "1           Developer, desktop or enterprise applications;...   \n",
       "2                     Developer, full-stack;Developer, mobile   \n",
       "3                                                         NaN   \n",
       "\n",
       "                                                    EdLevel  \\\n",
       "Respondent                                                    \n",
       "1           Master’s degree (M.A., M.S., M.Eng., MBA, etc.)   \n",
       "2              Bachelor’s degree (B.A., B.S., B.Eng., etc.)   \n",
       "3                                                       NaN   \n",
       "\n",
       "                                                   Employment  \\\n",
       "Respondent                                                      \n",
       "1           Independent contractor, freelancer, or self-em...   \n",
       "2                                          Employed full-time   \n",
       "3                                                         NaN   \n",
       "\n",
       "                               Ethnicity Gender  \\\n",
       "Respondent                                        \n",
       "1           White or of European descent    Man   \n",
       "2                                    NaN    NaN   \n",
       "3                                    NaN    NaN   \n",
       "\n",
       "                                                   JobFactors  \\\n",
       "Respondent                                                      \n",
       "1           Languages, frameworks, and other technologies ...   \n",
       "2                                                         NaN   \n",
       "3                                                         NaN   \n",
       "\n",
       "                        JobSat                                       JobSeek  \\\n",
       "Respondent                                                                     \n",
       "1           Slightly satisfied  I am not interested in new job opportunities   \n",
       "2            Very dissatisfied  I am not interested in new job opportunities   \n",
       "3                          NaN                                           NaN   \n",
       "\n",
       "              LanguageDesireNextYear        LanguageWorkedWith  \\\n",
       "Respondent                                                       \n",
       "1             C#;HTML/CSS;JavaScript    C#;HTML/CSS;JavaScript   \n",
       "2                       Python;Swift          JavaScript;Swift   \n",
       "3           Objective-C;Python;Swift  Objective-C;Python;Swift   \n",
       "\n",
       "                      MiscTechDesireNextYear MiscTechWorkedWith  \\\n",
       "Respondent                                                        \n",
       "1                          .NET Core;Xamarin     .NET;.NET Core   \n",
       "2           React Native;TensorFlow;Unity 3D       React Native   \n",
       "3                                        NaN                NaN   \n",
       "\n",
       "                      NEWCollabToolsDesireNextYear  \\\n",
       "Respondent                                           \n",
       "1           Microsoft Teams;Microsoft Azure;Trello   \n",
       "2                                     Github;Slack   \n",
       "3                                              NaN   \n",
       "\n",
       "                                NEWCollabToolsWorkedWith NEWDevOps  \\\n",
       "Respondent                                                           \n",
       "1           Confluence;Jira;Slack;Microsoft Azure;Trello        No   \n",
       "2                    Confluence;Jira;Github;Gitlab;Slack       NaN   \n",
       "3                                                    NaN       NaN   \n",
       "\n",
       "                 NEWDevOpsImpt         NEWEdImpt NEWJobHunt  \\\n",
       "Respondent                                                    \n",
       "1           Somewhat important  Fairly important        NaN   \n",
       "2                          NaN  Fairly important        NaN   \n",
       "3                          NaN               NaN        NaN   \n",
       "\n",
       "           NEWJobHuntResearch       NEWLearn NEWOffTopic NEWOnboardGood  \\\n",
       "Respondent                                                                \n",
       "1                         NaN    Once a year    Not sure            NaN   \n",
       "2                         NaN    Once a year    Not sure            NaN   \n",
       "3                         NaN  Once a decade         NaN            NaN   \n",
       "\n",
       "           NEWOtherComms                       NEWOvertime  \\\n",
       "Respondent                                                   \n",
       "1                     No  Often: 1-2 days per week or more   \n",
       "2                     No                               NaN   \n",
       "3                     No                               NaN   \n",
       "\n",
       "                                          NEWPurchaseResearch NEWPurpleLink  \\\n",
       "Respondent                                                                    \n",
       "1           Start a free trial;Ask developers I know/work ...        Amused   \n",
       "2                                                         NaN        Amused   \n",
       "3                                                         NaN           NaN   \n",
       "\n",
       "                                                   NEWSOSites  \\\n",
       "Respondent                                                      \n",
       "1            Stack Overflow (public Q&A for anyone who codes)   \n",
       "2           Stack Overflow (public Q&A for anyone who code...   \n",
       "3            Stack Overflow (public Q&A for anyone who codes)   \n",
       "\n",
       "                                                     NEWStuck        OpSys  \\\n",
       "Respondent                                                                   \n",
       "1           Visit Stack Overflow;Go for a walk or other ph...      Windows   \n",
       "2           Visit Stack Overflow;Go for a walk or other ph...        MacOS   \n",
       "3                                                         NaN  Linux-based   \n",
       "\n",
       "                             OrgSize  \\\n",
       "Respondent                             \n",
       "1                   2 to 9 employees   \n",
       "2           1,000 to 4,999 employees   \n",
       "3                                NaN   \n",
       "\n",
       "                                    PlatformDesireNextYear PlatformWorkedWith  \\\n",
       "Respondent                                                                      \n",
       "1           Android;iOS;Kubernetes;Microsoft Azure;Windows            Windows   \n",
       "2                               iOS;Kubernetes;Linux;MacOS                iOS   \n",
       "3                                                      NaN                NaN   \n",
       "\n",
       "                             PurchaseWhat                Sexuality SOAccount  \\\n",
       "Respondent                                                                     \n",
       "1                                     NaN  Straight / Heterosexual        No   \n",
       "2           I have little or no influence                      NaN       Yes   \n",
       "3                                     NaN                      NaN       Yes   \n",
       "\n",
       "                     SOComm                           SOPartFreq  \\\n",
       "Respondent                                                         \n",
       "1            No, not at all                                  NaN   \n",
       "2           Yes, definitely  Less than once per month or monthly   \n",
       "3             Yes, somewhat      A few times per month or weekly   \n",
       "\n",
       "                       SOVisitFreq                  SurveyEase  \\\n",
       "Respondent                                                       \n",
       "1           Multiple times per day  Neither easy nor difficult   \n",
       "2           Multiple times per day                         NaN   \n",
       "3            Daily or almost daily  Neither easy nor difficult   \n",
       "\n",
       "                     SurveyLength Trans  \\\n",
       "Respondent                                \n",
       "1           Appropriate in length    No   \n",
       "2                             NaN   NaN   \n",
       "3           Appropriate in length   NaN   \n",
       "\n",
       "                                               UndergradMajor  \\\n",
       "Respondent                                                      \n",
       "1           Computer science, computer engineering, or sof...   \n",
       "2           Computer science, computer engineering, or sof...   \n",
       "3                                                         NaN   \n",
       "\n",
       "           WebframeDesireNextYear    WebframeWorkedWith  \\\n",
       "Respondent                                                \n",
       "1                    ASP.NET Core  ASP.NET;ASP.NET Core   \n",
       "2                             NaN                   NaN   \n",
       "3                             NaN                   NaN   \n",
       "\n",
       "                                       WelcomeChange  WorkWeekHrs YearsCode  \\\n",
       "Respondent                                                                    \n",
       "1            Just as welcome now as I felt last year         50.0        36   \n",
       "2           Somewhat more welcome now than last year          NaN         7   \n",
       "3           Somewhat more welcome now than last year          NaN         4   \n",
       "\n",
       "           YearsCodePro  \n",
       "Respondent               \n",
       "1                    27  \n",
       "2                     4  \n",
       "3                   NaN  "
      ]
     },
     "execution_count": 5,
     "metadata": {},
     "output_type": "execute_result"
    }
   ],
   "source": [
    "# survey responses\n",
    "data.head(3)"
   ]
  },
  {
   "cell_type": "code",
   "execution_count": 6,
   "id": "fleet-virus",
   "metadata": {},
   "outputs": [
    {
     "data": {
      "text/plain": [
       "(64461, 60)"
      ]
     },
     "execution_count": 6,
     "metadata": {},
     "output_type": "execute_result"
    }
   ],
   "source": [
    "data.shape "
   ]
  },
  {
   "cell_type": "markdown",
   "id": "interpreted-cooperative",
   "metadata": {},
   "source": [
    "### Data Preparation"
   ]
  },
  {
   "cell_type": "code",
   "execution_count": 7,
   "id": "golden-pacific",
   "metadata": {},
   "outputs": [
    {
     "name": "stdout",
     "output_type": "stream",
     "text": [
      "<class 'pandas.core.frame.DataFrame'>\n",
      "Int64Index: 64461 entries, 1 to 65112\n",
      "Data columns (total 60 columns):\n",
      " #   Column                        Non-Null Count  Dtype  \n",
      "---  ------                        --------------  -----  \n",
      " 0   MainBranch                    64162 non-null  object \n",
      " 1   Hobbyist                      64416 non-null  object \n",
      " 2   Age                           45446 non-null  float64\n",
      " 3   Age1stCode                    57900 non-null  object \n",
      " 4   CompFreq                      40069 non-null  object \n",
      " 5   CompTotal                     34826 non-null  float64\n",
      " 6   ConvertedComp                 34756 non-null  float64\n",
      " 7   Country                       64072 non-null  object \n",
      " 8   CurrencyDesc                  45472 non-null  object \n",
      " 9   CurrencySymbol                45472 non-null  object \n",
      " 10  DatabaseDesireNextYear        44070 non-null  object \n",
      " 11  DatabaseWorkedWith            49537 non-null  object \n",
      " 12  DevType                       49370 non-null  object \n",
      " 13  EdLevel                       57431 non-null  object \n",
      " 14  Employment                    63854 non-null  object \n",
      " 15  Ethnicity                     45948 non-null  object \n",
      " 16  Gender                        50557 non-null  object \n",
      " 17  JobFactors                    49349 non-null  object \n",
      " 18  JobSat                        45194 non-null  object \n",
      " 19  JobSeek                       51727 non-null  object \n",
      " 20  LanguageDesireNextYear        54113 non-null  object \n",
      " 21  LanguageWorkedWith            57378 non-null  object \n",
      " 22  MiscTechDesireNextYear        42379 non-null  object \n",
      " 23  MiscTechWorkedWith            40314 non-null  object \n",
      " 24  NEWCollabToolsDesireNextYear  47287 non-null  object \n",
      " 25  NEWCollabToolsWorkedWith      52883 non-null  object \n",
      " 26  NEWDevOps                     42686 non-null  object \n",
      " 27  NEWDevOpsImpt                 41732 non-null  object \n",
      " 28  NEWEdImpt                     48465 non-null  object \n",
      " 29  NEWJobHunt                    42286 non-null  object \n",
      " 30  NEWJobHuntResearch            41022 non-null  object \n",
      " 31  NEWLearn                      56156 non-null  object \n",
      " 32  NEWOffTopic                   50804 non-null  object \n",
      " 33  NEWOnboardGood                42623 non-null  object \n",
      " 34  NEWOtherComms                 57205 non-null  object \n",
      " 35  NEWOvertime                   43231 non-null  object \n",
      " 36  NEWPurchaseResearch           37321 non-null  object \n",
      " 37  NEWPurpleLink                 54803 non-null  object \n",
      " 38  NEWSOSites                    58275 non-null  object \n",
      " 39  NEWStuck                      54983 non-null  object \n",
      " 40  OpSys                         56228 non-null  object \n",
      " 41  OrgSize                       44334 non-null  object \n",
      " 42  PlatformDesireNextYear        50605 non-null  object \n",
      " 43  PlatformWorkedWith            53843 non-null  object \n",
      " 44  PurchaseWhat                  39364 non-null  object \n",
      " 45  Sexuality                     43992 non-null  object \n",
      " 46  SOAccount                     56805 non-null  object \n",
      " 47  SOComm                        56476 non-null  object \n",
      " 48  SOPartFreq                    46792 non-null  object \n",
      " 49  SOVisitFreq                   56970 non-null  object \n",
      " 50  SurveyEase                    51802 non-null  object \n",
      " 51  SurveyLength                  51701 non-null  object \n",
      " 52  Trans                         49345 non-null  object \n",
      " 53  UndergradMajor                50995 non-null  object \n",
      " 54  WebframeDesireNextYear        40024 non-null  object \n",
      " 55  WebframeWorkedWith            42279 non-null  object \n",
      " 56  WelcomeChange                 52683 non-null  object \n",
      " 57  WorkWeekHrs                   41151 non-null  float64\n",
      " 58  YearsCode                     57684 non-null  object \n",
      " 59  YearsCodePro                  46349 non-null  object \n",
      "dtypes: float64(4), object(56)\n",
      "memory usage: 30.0+ MB\n"
     ]
    }
   ],
   "source": [
    "data.info()"
   ]
  },
  {
   "cell_type": "code",
   "execution_count": 8,
   "id": "patient-reunion",
   "metadata": {},
   "outputs": [],
   "source": [
    "# select features\n",
    "data = data[['MainBranch', 'Age', 'ConvertedComp', 'DevType', 'Employment',\n",
    "             'JobFactors', 'JobSat', 'JobSeek', 'NEWJobHunt', 'NEWJobHuntResearch',\n",
    "             'NEWOnboardGood', 'NEWOvertime', 'PurchaseWhat','WorkWeekHrs']] "
   ]
  },
  {
   "cell_type": "code",
   "execution_count": 9,
   "id": "worldwide-singing",
   "metadata": {},
   "outputs": [],
   "source": [
    "# rename column\n",
    "data.rename(columns={'ConvertedComp': 'AnnualSalaryUSD'}, inplace=True)"
   ]
  },
  {
   "cell_type": "code",
   "execution_count": 10,
   "id": "sealed-forestry",
   "metadata": {},
   "outputs": [],
   "source": [
    "# filter by professional developers \n",
    "data = data[data['MainBranch'] == 'I am a developer by profession']"
   ]
  },
  {
   "cell_type": "code",
   "execution_count": 11,
   "id": "integral-newman",
   "metadata": {},
   "outputs": [
    {
     "data": {
      "text/html": [
       "<div>\n",
       "<style scoped>\n",
       "    .dataframe tbody tr th:only-of-type {\n",
       "        vertical-align: middle;\n",
       "    }\n",
       "\n",
       "    .dataframe tbody tr th {\n",
       "        vertical-align: top;\n",
       "    }\n",
       "\n",
       "    .dataframe thead th {\n",
       "        text-align: right;\n",
       "    }\n",
       "</style>\n",
       "<table border=\"1\" class=\"dataframe\">\n",
       "  <thead>\n",
       "    <tr style=\"text-align: right;\">\n",
       "      <th></th>\n",
       "      <th>Age</th>\n",
       "      <th>AnnualSalaryUSD</th>\n",
       "      <th>WorkWeekHrs</th>\n",
       "    </tr>\n",
       "  </thead>\n",
       "  <tbody>\n",
       "    <tr>\n",
       "      <th>count</th>\n",
       "      <td>34348.000000</td>\n",
       "      <td>3.158100e+04</td>\n",
       "      <td>37203.000000</td>\n",
       "    </tr>\n",
       "    <tr>\n",
       "      <th>mean</th>\n",
       "      <td>31.699662</td>\n",
       "      <td>1.026831e+05</td>\n",
       "      <td>40.672495</td>\n",
       "    </tr>\n",
       "    <tr>\n",
       "      <th>std</th>\n",
       "      <td>8.723062</td>\n",
       "      <td>2.237351e+05</td>\n",
       "      <td>17.919047</td>\n",
       "    </tr>\n",
       "    <tr>\n",
       "      <th>min</th>\n",
       "      <td>1.000000</td>\n",
       "      <td>0.000000e+00</td>\n",
       "      <td>1.000000</td>\n",
       "    </tr>\n",
       "    <tr>\n",
       "      <th>25%</th>\n",
       "      <td>26.000000</td>\n",
       "      <td>2.446800e+04</td>\n",
       "      <td>40.000000</td>\n",
       "    </tr>\n",
       "    <tr>\n",
       "      <th>50%</th>\n",
       "      <td>30.000000</td>\n",
       "      <td>5.403000e+04</td>\n",
       "      <td>40.000000</td>\n",
       "    </tr>\n",
       "    <tr>\n",
       "      <th>75%</th>\n",
       "      <td>36.000000</td>\n",
       "      <td>9.500000e+04</td>\n",
       "      <td>43.000000</td>\n",
       "    </tr>\n",
       "    <tr>\n",
       "      <th>max</th>\n",
       "      <td>279.000000</td>\n",
       "      <td>2.000000e+06</td>\n",
       "      <td>475.000000</td>\n",
       "    </tr>\n",
       "  </tbody>\n",
       "</table>\n",
       "</div>"
      ],
      "text/plain": [
       "                Age  AnnualSalaryUSD   WorkWeekHrs\n",
       "count  34348.000000     3.158100e+04  37203.000000\n",
       "mean      31.699662     1.026831e+05     40.672495\n",
       "std        8.723062     2.237351e+05     17.919047\n",
       "min        1.000000     0.000000e+00      1.000000\n",
       "25%       26.000000     2.446800e+04     40.000000\n",
       "50%       30.000000     5.403000e+04     40.000000\n",
       "75%       36.000000     9.500000e+04     43.000000\n",
       "max      279.000000     2.000000e+06    475.000000"
      ]
     },
     "execution_count": 11,
     "metadata": {},
     "output_type": "execute_result"
    }
   ],
   "source": [
    "# statistics\n",
    "data.describe()"
   ]
  },
  {
   "cell_type": "code",
   "execution_count": 12,
   "id": "amateur-permission",
   "metadata": {},
   "outputs": [],
   "source": [
    "# age filter (remove outliers)  \n",
    "data = data.query(\"Age >= 14 & Age <= 99\") "
   ]
  },
  {
   "cell_type": "code",
   "execution_count": 13,
   "id": "seasonal-examination",
   "metadata": {},
   "outputs": [],
   "source": [
    "# limit max hours/week (remove outliers)  \n",
    "data = data[(data['WorkWeekHrs'] < 168)]"
   ]
  },
  {
   "cell_type": "code",
   "execution_count": 14,
   "id": "alike-elements",
   "metadata": {},
   "outputs": [
    {
     "data": {
      "text/html": [
       "<div>\n",
       "<style scoped>\n",
       "    .dataframe tbody tr th:only-of-type {\n",
       "        vertical-align: middle;\n",
       "    }\n",
       "\n",
       "    .dataframe tbody tr th {\n",
       "        vertical-align: top;\n",
       "    }\n",
       "\n",
       "    .dataframe thead th {\n",
       "        text-align: right;\n",
       "    }\n",
       "</style>\n",
       "<table border=\"1\" class=\"dataframe\">\n",
       "  <thead>\n",
       "    <tr style=\"text-align: right;\">\n",
       "      <th></th>\n",
       "      <th>Total</th>\n",
       "      <th>Percent</th>\n",
       "    </tr>\n",
       "  </thead>\n",
       "  <tbody>\n",
       "    <tr>\n",
       "      <th>AnnualSalaryUSD</th>\n",
       "      <td>4485</td>\n",
       "      <td>14.10</td>\n",
       "    </tr>\n",
       "    <tr>\n",
       "      <th>PurchaseWhat</th>\n",
       "      <td>3270</td>\n",
       "      <td>10.28</td>\n",
       "    </tr>\n",
       "    <tr>\n",
       "      <th>NEWJobHuntResearch</th>\n",
       "      <td>2041</td>\n",
       "      <td>6.42</td>\n",
       "    </tr>\n",
       "    <tr>\n",
       "      <th>NEWJobHunt</th>\n",
       "      <td>1313</td>\n",
       "      <td>4.13</td>\n",
       "    </tr>\n",
       "    <tr>\n",
       "      <th>JobFactors</th>\n",
       "      <td>707</td>\n",
       "      <td>2.22</td>\n",
       "    </tr>\n",
       "    <tr>\n",
       "      <th>NEWOnboardGood</th>\n",
       "      <td>424</td>\n",
       "      <td>1.33</td>\n",
       "    </tr>\n",
       "    <tr>\n",
       "      <th>DevType</th>\n",
       "      <td>178</td>\n",
       "      <td>0.56</td>\n",
       "    </tr>\n",
       "    <tr>\n",
       "      <th>NEWOvertime</th>\n",
       "      <td>139</td>\n",
       "      <td>0.44</td>\n",
       "    </tr>\n",
       "    <tr>\n",
       "      <th>JobSat</th>\n",
       "      <td>47</td>\n",
       "      <td>0.15</td>\n",
       "    </tr>\n",
       "    <tr>\n",
       "      <th>Employment</th>\n",
       "      <td>41</td>\n",
       "      <td>0.13</td>\n",
       "    </tr>\n",
       "    <tr>\n",
       "      <th>WorkWeekHrs</th>\n",
       "      <td>0</td>\n",
       "      <td>0.00</td>\n",
       "    </tr>\n",
       "    <tr>\n",
       "      <th>JobSeek</th>\n",
       "      <td>0</td>\n",
       "      <td>0.00</td>\n",
       "    </tr>\n",
       "    <tr>\n",
       "      <th>Age</th>\n",
       "      <td>0</td>\n",
       "      <td>0.00</td>\n",
       "    </tr>\n",
       "    <tr>\n",
       "      <th>MainBranch</th>\n",
       "      <td>0</td>\n",
       "      <td>0.00</td>\n",
       "    </tr>\n",
       "  </tbody>\n",
       "</table>\n",
       "</div>"
      ],
      "text/plain": [
       "                    Total  Percent\n",
       "AnnualSalaryUSD      4485    14.10\n",
       "PurchaseWhat         3270    10.28\n",
       "NEWJobHuntResearch   2041     6.42\n",
       "NEWJobHunt           1313     4.13\n",
       "JobFactors            707     2.22\n",
       "NEWOnboardGood        424     1.33\n",
       "DevType               178     0.56\n",
       "NEWOvertime           139     0.44\n",
       "JobSat                 47     0.15\n",
       "Employment             41     0.13\n",
       "WorkWeekHrs             0     0.00\n",
       "JobSeek                 0     0.00\n",
       "Age                     0     0.00\n",
       "MainBranch              0     0.00"
      ]
     },
     "execution_count": 14,
     "metadata": {},
     "output_type": "execute_result"
    }
   ],
   "source": [
    "#missing data\n",
    "total = data.isnull().sum().sort_values(ascending=False)\n",
    "percent = (data.isnull().sum()/len(data)*100).sort_values(ascending=False).round(2)\n",
    "missing_data = pd.concat([total, percent], axis=1, keys=['Total', 'Percent'])\n",
    "missing_data.head(20)"
   ]
  },
  {
   "cell_type": "markdown",
   "id": "realistic-powder",
   "metadata": {},
   "source": [
    "Since the most important information regarding job satisfaction is expressed by 'JobSat', we'll drop the missing values. The same logic applies to 'Employment'. The remaining missing values will be dealt with later, as needed."
   ]
  },
  {
   "cell_type": "code",
   "execution_count": 15,
   "id": "worldwide-syntax",
   "metadata": {},
   "outputs": [],
   "source": [
    "# drop nan values\n",
    "data.dropna(subset=['Employment', 'JobSat'], inplace=True)"
   ]
  },
  {
   "cell_type": "code",
   "execution_count": 16,
   "id": "announced-welcome",
   "metadata": {},
   "outputs": [
    {
     "data": {
      "text/plain": [
       "(31722, 14)"
      ]
     },
     "execution_count": 16,
     "metadata": {},
     "output_type": "execute_result"
    }
   ],
   "source": [
    "data.shape"
   ]
  },
  {
   "cell_type": "markdown",
   "id": "blocked-discharge",
   "metadata": {},
   "source": [
    "---"
   ]
  },
  {
   "cell_type": "markdown",
   "id": "enormous-decade",
   "metadata": {},
   "source": [
    "## Exploratory Data Analysis"
   ]
  },
  {
   "cell_type": "markdown",
   "id": "governmental-rolling",
   "metadata": {},
   "source": [
    "### **Employment & Satisfaction**\n",
    "\n",
    "* Developers current employment status    \n",
    "* How satisfied are the developers with their current jobs?\n",
    "* Are employed developers looking for a new job?    \n"
   ]
  },
  {
   "cell_type": "code",
   "execution_count": 17,
   "id": "confirmed-registrar",
   "metadata": {},
   "outputs": [],
   "source": [
    "def normalize_plot(feature):\n",
    "    ''' Normalize data and plot with the respective question'''\n",
    "\n",
    "    feat = data[feature].value_counts(normalize=True)\n",
    "    plt.figure(figsize=(8, 4))\n",
    "    sns.barplot(x=feat.values, y=feat.index, palette=\"viridis\")\n",
    "    plt.title(textwrap.fill(questions.loc[feature, 'QuestionText'], width=80))\n",
    "    return plt.show()"
   ]
  },
  {
   "cell_type": "code",
   "execution_count": 18,
   "id": "hired-postage",
   "metadata": {},
   "outputs": [
    {
     "data": {
      "image/png": "[encoded data removed]",
      "text/plain": [
       "<Figure size 576x288 with 1 Axes>"
      ]
     },
     "metadata": {
      "needs_background": "light"
     },
     "output_type": "display_data"
    }
   ],
   "source": [
    "normalize_plot('Employment')"
   ]
  },
  {
   "cell_type": "code",
   "execution_count": 19,
   "id": "therapeutic-ebony",
   "metadata": {},
   "outputs": [
    {
     "data": {
      "text/plain": [
       "Employed full-time                                      0.873116\n",
       "Independent contractor, freelancer, or self-employed    0.096242\n",
       "Employed part-time                                      0.030641\n",
       "Name: Employment, dtype: float64"
      ]
     },
     "execution_count": 19,
     "metadata": {},
     "output_type": "execute_result"
    }
   ],
   "source": [
    "data['Employment'].value_counts(normalize=True)"
   ]
  },
  {
   "cell_type": "code",
   "execution_count": 20,
   "id": "liberal-sector",
   "metadata": {},
   "outputs": [
    {
     "data": {
      "image/png": "[encoded data removed]",
      "text/plain": [
       "<Figure size 576x288 with 1 Axes>"
      ]
     },
     "metadata": {
      "needs_background": "light"
     },
     "output_type": "display_data"
    }
   ],
   "source": [
    "normalize_plot('JobSat')"
   ]
  },
  {
   "cell_type": "code",
   "execution_count": 21,
   "id": "smoking-rescue",
   "metadata": {},
   "outputs": [
    {
     "data": {
      "text/plain": [
       "Very satisfied                        0.333239\n",
       "Slightly satisfied                    0.309155\n",
       "Slightly dissatisfied                 0.159290\n",
       "Neither satisfied nor dissatisfied    0.118940\n",
       "Very dissatisfied                     0.079377\n",
       "Name: JobSat, dtype: float64"
      ]
     },
     "execution_count": 21,
     "metadata": {},
     "output_type": "execute_result"
    }
   ],
   "source": [
    "data['JobSat'].value_counts(normalize=True)"
   ]
  },
  {
   "cell_type": "code",
   "execution_count": 22,
   "id": "digital-latino",
   "metadata": {},
   "outputs": [
    {
     "data": {
      "image/png": "[encoded data removed]",
      "text/plain": [
       "<Figure size 576x288 with 1 Axes>"
      ]
     },
     "metadata": {
      "needs_background": "light"
     },
     "output_type": "display_data"
    }
   ],
   "source": [
    "normalize_plot('JobSeek')"
   ]
  },
  {
   "cell_type": "code",
   "execution_count": 23,
   "id": "minor-lightweight",
   "metadata": {},
   "outputs": [
    {
     "data": {
      "text/plain": [
       "I’m not actively looking, but I am open to new opportunities    0.591829\n",
       "I am not interested in new job opportunities                    0.282233\n",
       "I am actively looking for a job                                 0.125938\n",
       "Name: JobSeek, dtype: float64"
      ]
     },
     "execution_count": 23,
     "metadata": {},
     "output_type": "execute_result"
    }
   ],
   "source": [
    "data['JobSeek'].value_counts(normalize=True)"
   ]
  },
  {
   "cell_type": "markdown",
   "id": "happy-northwest",
   "metadata": {},
   "source": [
    "---"
   ]
  },
  {
   "cell_type": "markdown",
   "id": "functional-assessment",
   "metadata": {},
   "source": [
    "#### **Employment & Satisfaction** - Key Findings\n",
    "\n",
    "For this analysis, only employed developers were selected.    \n",
    "* 87% of them work full time \n",
    "* 3% of them work part-time    \n",
    "* The others work independently or as freelancers.    \n",
    "\n",
    "#### How satisfied are the developers with their current jobs?\n",
    "\n",
    "* 64% of developers are very satisfied or slightly satisfied with their current job.\n",
    "* The very dissatisfied or slightly dissatisfied add up to 24%. \n",
    "* 12% are neither satisfied nor dissatisfied.    \n",
    "\n",
    "#### Are employed developers looking for a new job?    \n",
    "\n",
    "* 12% of the developers are looking for a new job. \n",
    "* Almost 60% is not actively looking, but are open to new opportunities.\n",
    "* The rest is not interested in a new job.    \n",
    "\n",
    "\n"
   ]
  },
  {
   "cell_type": "markdown",
   "id": "temporal-cologne",
   "metadata": {},
   "source": [
    "---"
   ]
  },
  {
   "cell_type": "markdown",
   "id": "hydraulic-colon",
   "metadata": {},
   "source": [
    "### **Current Job Factors**\n",
    "\n",
    "* Is it possible to identify factors in the current job that contribute to job satisfaction?\n",
    "* What is the impact of salary on developers' satisfaction?"
   ]
  },
  {
   "cell_type": "code",
   "execution_count": 24,
   "id": "quick-delta",
   "metadata": {},
   "outputs": [],
   "source": [
    "def split_plot(feature):\n",
    "    ''' Split options (select all that apply) and plot'''\n",
    "\n",
    "    feat = data[feature].str.get_dummies(';').sum().sort_values(ascending=False)\n",
    "\n",
    "    plt.figure(figsize=(10, 5))\n",
    "    sns.barplot(feat.values, feat.index, palette=\"viridis\")\n",
    "    plt.title(textwrap.fill(questions.loc[feature, 'QuestionText'], width=80))\n",
    "    return plt.show()"
   ]
  },
  {
   "cell_type": "code",
   "execution_count": 25,
   "id": "widespread-fossil",
   "metadata": {},
   "outputs": [],
   "source": [
    "# create satisfaction score column\n",
    "data['JobSat_Score'] = data['JobSat'].replace({'Very dissatisfied': 1, 'Slightly dissatisfied': 2,\n",
    "                                               'Neither satisfied nor dissatisfied': 3,\n",
    "                                               'Slightly satisfied': 4, 'Very satisfied': 5})"
   ]
  },
  {
   "cell_type": "code",
   "execution_count": 26,
   "id": "sunset-convenience",
   "metadata": {},
   "outputs": [
    {
     "data": {
      "image/png": "[encoded data removed]",
      "text/plain": [
       "<Figure size 576x288 with 1 Axes>"
      ]
     },
     "metadata": {
      "needs_background": "light"
     },
     "output_type": "display_data"
    }
   ],
   "source": [
    "normalize_plot('NEWOnboardGood')"
   ]
  },
  {
   "cell_type": "code",
   "execution_count": 51,
   "id": "opened-trading",
   "metadata": {},
   "outputs": [
    {
     "data": {
      "text/plain": [
       "NEWOnboardGood\n",
       "Yes                             3.940292\n",
       "Onboarding? What onboarding?    3.469652\n",
       "No                              3.326294\n",
       "Name: JobSat_Score, dtype: float64"
      ]
     },
     "execution_count": 51,
     "metadata": {},
     "output_type": "execute_result"
    }
   ],
   "source": [
    "# Mean satisfaction score\n",
    "data.groupby('NEWOnboardGood')['JobSat_Score'].mean().sort_values(ascending=False)"
   ]
  },
  {
   "cell_type": "code",
   "execution_count": 28,
   "id": "negative-deficit",
   "metadata": {},
   "outputs": [
    {
     "data": {
      "image/png": "[encoded data removed]",
      "text/plain": [
       "<Figure size 576x288 with 1 Axes>"
      ]
     },
     "metadata": {
      "needs_background": "light"
     },
     "output_type": "display_data"
    }
   ],
   "source": [
    "normalize_plot('PurchaseWhat')"
   ]
  },
  {
   "cell_type": "code",
   "execution_count": 29,
   "id": "choice-table",
   "metadata": {},
   "outputs": [
    {
     "data": {
      "text/plain": [
       "PurchaseWhat\n",
       "I have a great deal of influence    3.821111\n",
       "I have some influence               3.733285\n",
       "I have little or no influence       3.514537\n",
       "Name: JobSat_Score, dtype: float64"
      ]
     },
     "execution_count": 29,
     "metadata": {},
     "output_type": "execute_result"
    }
   ],
   "source": [
    "# Mean satisfaction score\n",
    "data.groupby('PurchaseWhat')['JobSat_Score'].mean().sort_values(ascending=False)"
   ]
  },
  {
   "cell_type": "code",
   "execution_count": 30,
   "id": "tropical-planning",
   "metadata": {},
   "outputs": [
    {
     "data": {
      "image/png": "[encoded data removed]",
      "text/plain": [
       "<Figure size 576x288 with 1 Axes>"
      ]
     },
     "metadata": {
      "needs_background": "light"
     },
     "output_type": "display_data"
    }
   ],
   "source": [
    "normalize_plot('NEWOvertime')"
   ]
  },
  {
   "cell_type": "code",
   "execution_count": 31,
   "id": "desirable-technique",
   "metadata": {},
   "outputs": [
    {
     "data": {
      "text/plain": [
       "NEWOvertime\n",
       "Sometimes: 1-2 days per month but less than weekly          3.715698\n",
       "Occasionally: 1-2 days per quarter but less than monthly    3.703735\n",
       "Rarely: 1-2 days per year or less                           3.650254\n",
       "Often: 1-2 days per week or more                            3.605363\n",
       "Never                                                       3.555587\n",
       "Name: JobSat_Score, dtype: float64"
      ]
     },
     "execution_count": 31,
     "metadata": {},
     "output_type": "execute_result"
    }
   ],
   "source": [
    "# Mean satisfaction score\n",
    "data.groupby('NEWOvertime')['JobSat_Score'].mean().sort_values(ascending=False)"
   ]
  },
  {
   "cell_type": "markdown",
   "id": "becoming-andrews",
   "metadata": {},
   "source": [
    "---"
   ]
  },
  {
   "cell_type": "markdown",
   "id": "exclusive-velvet",
   "metadata": {},
   "source": [
    "Some factors seem to contribute to the developers' satisfaction.    \n",
    "The average satisfaction is **slightly higher** when:    \n",
    "* the company has a good onboarding (a structured process to settle the professional in the new role);\n",
    "* the developer have some influence on the technological tools acquired by the company;\n",
    "* the developer receive a good salary."
   ]
  },
  {
   "cell_type": "markdown",
   "id": "graphic-switch",
   "metadata": {},
   "source": [
    "---"
   ]
  },
  {
   "cell_type": "markdown",
   "id": "waiting-cuisine",
   "metadata": {},
   "source": [
    "* **Salary**"
   ]
  },
  {
   "cell_type": "code",
   "execution_count": 32,
   "id": "beginning-nepal",
   "metadata": {},
   "outputs": [
    {
     "data": {
      "text/html": [
       "<div>\n",
       "<style scoped>\n",
       "    .dataframe tbody tr th:only-of-type {\n",
       "        vertical-align: middle;\n",
       "    }\n",
       "\n",
       "    .dataframe tbody tr th {\n",
       "        vertical-align: top;\n",
       "    }\n",
       "\n",
       "    .dataframe thead th {\n",
       "        text-align: right;\n",
       "    }\n",
       "</style>\n",
       "<table border=\"1\" class=\"dataframe\">\n",
       "  <thead>\n",
       "    <tr style=\"text-align: right;\">\n",
       "      <th></th>\n",
       "      <th>AnnualSalaryUSD</th>\n",
       "      <th>JobSat_Score</th>\n",
       "    </tr>\n",
       "    <tr>\n",
       "      <th>Respondent</th>\n",
       "      <th></th>\n",
       "      <th></th>\n",
       "    </tr>\n",
       "  </thead>\n",
       "  <tbody>\n",
       "    <tr>\n",
       "      <th>8</th>\n",
       "      <td>116000.0</td>\n",
       "      <td>2</td>\n",
       "    </tr>\n",
       "    <tr>\n",
       "      <th>9</th>\n",
       "      <td>NaN</td>\n",
       "      <td>1</td>\n",
       "    </tr>\n",
       "    <tr>\n",
       "      <th>10</th>\n",
       "      <td>32315.0</td>\n",
       "      <td>5</td>\n",
       "    </tr>\n",
       "    <tr>\n",
       "      <th>11</th>\n",
       "      <td>40070.0</td>\n",
       "      <td>2</td>\n",
       "    </tr>\n",
       "    <tr>\n",
       "      <th>12</th>\n",
       "      <td>14268.0</td>\n",
       "      <td>1</td>\n",
       "    </tr>\n",
       "  </tbody>\n",
       "</table>\n",
       "</div>"
      ],
      "text/plain": [
       "            AnnualSalaryUSD  JobSat_Score\n",
       "Respondent                               \n",
       "8                  116000.0             2\n",
       "9                       NaN             1\n",
       "10                  32315.0             5\n",
       "11                  40070.0             2\n",
       "12                  14268.0             1"
      ]
     },
     "execution_count": 32,
     "metadata": {},
     "output_type": "execute_result"
    }
   ],
   "source": [
    "# create a subset\n",
    "salary = data[['AnnualSalaryUSD', 'JobSat_Score']]\n",
    "salary.head()"
   ]
  },
  {
   "cell_type": "code",
   "execution_count": 33,
   "id": "black-pepper",
   "metadata": {},
   "outputs": [
    {
     "data": {
      "text/plain": [
       "27207"
      ]
     },
     "execution_count": 33,
     "metadata": {},
     "output_type": "execute_result"
    }
   ],
   "source": [
    "# drop nan and 0 values\n",
    "salary.replace(0, np.nan, inplace=True)\n",
    "salary.dropna(inplace=True)\n",
    "salary.shape[0]"
   ]
  },
  {
   "cell_type": "code",
   "execution_count": 34,
   "id": "wrapped-vegetable",
   "metadata": {},
   "outputs": [
    {
     "name": "stdout",
     "output_type": "stream",
     "text": [
      "Salaries lower than: USD 5817.0\n",
      "Salaries than: USD 250000.0\n"
     ]
    }
   ],
   "source": [
    "# filter outliers\n",
    "print('Salaries lower than: USD', data['AnnualSalaryUSD'].quantile(0.05)) # 5% lower wages\n",
    "print('Salaries than: USD', data['AnnualSalaryUSD'].quantile(0.95)) # 5% higher wages"
   ]
  },
  {
   "cell_type": "code",
   "execution_count": 35,
   "id": "fitted-cathedral",
   "metadata": {},
   "outputs": [],
   "source": [
    "# remove outliers\n",
    "salary = salary.query(\"AnnualSalaryUSD >= 5773 & AnnualSalaryUSD <= 250000\") "
   ]
  },
  {
   "cell_type": "code",
   "execution_count": 36,
   "id": "intended-skill",
   "metadata": {},
   "outputs": [
    {
     "data": {
      "image/png": "[encoded data removed]",
      "text/plain": [
       "<Figure size 720x432 with 1 Axes>"
      ]
     },
     "metadata": {
      "needs_background": "light"
     },
     "output_type": "display_data"
    }
   ],
   "source": [
    "# plot \n",
    "plt.figure(figsize=(10, 6))\n",
    "sns.boxplot(x=\"JobSat_Score\", y=\"AnnualSalaryUSD\",\n",
    "            data=salary, palette=\"viridis\");\n",
    "plt.title('Salaries x Satisfaction Score', fontsize=13)\n",
    "plt.show()"
   ]
  },
  {
   "cell_type": "markdown",
   "id": "aggregate-murray",
   "metadata": {},
   "source": [
    "* The most satisfied developers have, on average, higher wages    \n",
    "But the opposite is not necessarily true:\n",
    "* The developers with the lowest average wages answered are neither satisfied nor dissatisfied."
   ]
  },
  {
   "cell_type": "markdown",
   "id": "cordless-sense",
   "metadata": {},
   "source": [
    "---"
   ]
  },
  {
   "cell_type": "markdown",
   "id": "selective-relative",
   "metadata": {},
   "source": [
    "### **Job Satisfaction X Job Seek**\n",
    "* How does satisfaction in the current job impact the search for new opportunities?"
   ]
  },
  {
   "cell_type": "code",
   "execution_count": 37,
   "id": "thorough-solution",
   "metadata": {},
   "outputs": [
    {
     "data": {
      "text/plain": [
       "JobSat                              JobSeek                                                     \n",
       "Neither satisfied nor dissatisfied  I’m not actively looking, but I am open to new opportunities    0.710840\n",
       "                                    I am actively looking for a job                                 0.191360\n",
       "                                    I am not interested in new job opportunities                    0.097800\n",
       "Slightly dissatisfied               I’m not actively looking, but I am open to new opportunities    0.673263\n",
       "                                    I am actively looking for a job                                 0.253315\n",
       "                                    I am not interested in new job opportunities                    0.073422\n",
       "Slightly satisfied                  I’m not actively looking, but I am open to new opportunities    0.707148\n",
       "                                    I am not interested in new job opportunities                    0.207505\n",
       "                                    I am actively looking for a job                                 0.085347\n",
       "Very dissatisfied                   I’m not actively looking, but I am open to new opportunities    0.415012\n",
       "                                    I am actively looking for a job                                 0.312550\n",
       "                                    I am not interested in new job opportunities                    0.272438\n",
       "Very satisfied                      I am not interested in new job opportunities                    0.519535\n",
       "                                    I’m not actively looking, but I am open to new opportunities    0.445559\n",
       "                                    I am actively looking for a job                                 0.034907\n",
       "Name: JobSeek, dtype: float64"
      ]
     },
     "execution_count": 37,
     "metadata": {},
     "output_type": "execute_result"
    }
   ],
   "source": [
    "# JobSat x JobSeek\n",
    "data.groupby('JobSat')['JobSeek'].value_counts(normalize=True)"
   ]
  },
  {
   "cell_type": "code",
   "execution_count": 38,
   "id": "legendary-statistics",
   "metadata": {},
   "outputs": [
    {
     "data": {
      "image/png": "[encoded data removed]",
      "text/plain": [
       "<Figure size 1008x432 with 1 Axes>"
      ]
     },
     "metadata": {
      "needs_background": "light"
     },
     "output_type": "display_data"
    }
   ],
   "source": [
    "# order values \n",
    "order = ['Very satisfied', 'Slightly satisfied', 'Neither satisfied nor dissatisfied',\n",
    "         'Slightly dissatisfied', 'Very dissatisfied']\n",
    "hue_order = [\"I’m not actively looking, but I am open to new opportunities\",\n",
    "             'I am not interested in new job opportunities', 'I am actively looking for a job']\n",
    "\n",
    "# plot \n",
    "plt.figure(figsize=(14, 6))\n",
    "sns.countplot(x=\"JobSat\", hue=\"JobSeek\", data=data, order=order, hue_order=hue_order, palette=\"viridis\")\n",
    "plt.show()"
   ]
  },
  {
   "cell_type": "code",
   "execution_count": 39,
   "id": "packed-brave",
   "metadata": {},
   "outputs": [
    {
     "data": {
      "image/png": "[encoded data removed]",
      "text/plain": [
       "<Figure size 1080x360 with 3 Axes>"
      ]
     },
     "metadata": {
      "needs_background": "light"
     },
     "output_type": "display_data"
    }
   ],
   "source": [
    "# JobSeek x Satisfaction scores\n",
    "g = sns.catplot(x=\"JobSat_Score\", col=\"JobSeek\", data=data,\n",
    "                kind=\"count\", palette=\"viridis\")"
   ]
  },
  {
   "cell_type": "code",
   "execution_count": 40,
   "id": "similar-motel",
   "metadata": {},
   "outputs": [
    {
     "data": {
      "text/plain": [
       "JobSeek\n",
       "I am actively looking for a job                                 2.679850\n",
       "I am not interested in new job opportunities                    4.259466\n",
       "I’m not actively looking, but I am open to new opportunities    3.578619\n",
       "Name: JobSat_Score, dtype: float64"
      ]
     },
     "execution_count": 40,
     "metadata": {},
     "output_type": "execute_result"
    }
   ],
   "source": [
    "## Job seek x Mean satisfaction score\n",
    "data.groupby('JobSeek')['JobSat_Score'].mean()"
   ]
  },
  {
   "cell_type": "markdown",
   "id": "regional-bobby",
   "metadata": {},
   "source": [
    "---"
   ]
  },
  {
   "cell_type": "markdown",
   "id": "demographic-trauma",
   "metadata": {},
   "source": [
    "Even the developers who are satisfied with their current jobs can leave the company for a better opportunity:    \n",
    "\n",
    "**Very satisfied professionals:**   \n",
    "* 52% of them are not interested in a new job opportunity.       \n",
    "* 44% are open to new opportunities       \n",
    "\n",
    "\n",
    "**Slightly satisfied developers:**    \n",
    "* 71% are available for new opportunities    \n",
    "* 8% are actively looking for a new job    \n",
    "  \n",
    "\n"
   ]
  },
  {
   "cell_type": "markdown",
   "id": "younger-garbage",
   "metadata": {},
   "source": [
    "---"
   ]
  },
  {
   "cell_type": "markdown",
   "id": "comparable-platform",
   "metadata": {},
   "source": [
    "* **Most important factors in a job offer**"
   ]
  },
  {
   "cell_type": "code",
   "execution_count": 41,
   "id": "sacred-damages",
   "metadata": {},
   "outputs": [
    {
     "data": {
      "image/png": "[encoded data removed]",
      "text/plain": [
       "<Figure size 720x360 with 1 Axes>"
      ]
     },
     "metadata": {
      "needs_background": "light"
     },
     "output_type": "display_data"
    }
   ],
   "source": [
    "split_plot('JobFactors')"
   ]
  },
  {
   "cell_type": "markdown",
   "id": "rental-surgery",
   "metadata": {},
   "source": [
    "In a situation where it is necessary to decide between two job offers with equal local conditions, salary, and benefits, the **3 MOST important factors** are:    \n",
    "\n",
    "* The technologies that will be used\n",
    "* The work environment or company culture\n",
    "* Flextime or a flexible schedule\n"
   ]
  },
  {
   "cell_type": "markdown",
   "id": "electrical-pierre",
   "metadata": {},
   "source": [
    "---"
   ]
  },
  {
   "cell_type": "markdown",
   "id": "leading-stomach",
   "metadata": {},
   "source": [
    "### Job Hunting\n"
   ]
  },
  {
   "cell_type": "markdown",
   "id": "czech-neighborhood",
   "metadata": {},
   "source": [
    "* What drives employed developers to look for a new job?"
   ]
  },
  {
   "cell_type": "code",
   "execution_count": 42,
   "id": "further-doctrine",
   "metadata": {},
   "outputs": [
    {
     "data": {
      "image/png": "[encoded data removed]",
      "text/plain": [
       "<Figure size 720x360 with 1 Axes>"
      ]
     },
     "metadata": {
      "needs_background": "light"
     },
     "output_type": "display_data"
    }
   ],
   "source": [
    "split_plot('NEWJobHunt')"
   ]
  },
  {
   "cell_type": "markdown",
   "id": "generous-mexico",
   "metadata": {},
   "source": [
    "* **Satisfaction x Job seek reasons**"
   ]
  },
  {
   "cell_type": "code",
   "execution_count": 43,
   "id": "specific-metro",
   "metadata": {},
   "outputs": [],
   "source": [
    "def clean_df(df, feature):\n",
    "    ''' Splits the answer options and creates a new df\n",
    "    with the percentage of options\n",
    "    '''\n",
    "\n",
    "    feature_df = df[feature].str.get_dummies(';').sum().reset_index()\n",
    "    feature_df.rename(columns={'index': 'Factors', 0: 'Count'}, inplace=True)\n",
    "    feature_df.set_index('Factors', inplace=True)\n",
    "    props_feature_df = feature_df/feature_df.sum()\n",
    "\n",
    "    return props_feature_df"
   ]
  },
  {
   "cell_type": "code",
   "execution_count": 44,
   "id": "fourth-symphony",
   "metadata": {},
   "outputs": [],
   "source": [
    "# satisfaction subsets \n",
    "satisfied = data[data['JobSat_Score'] > 3] # 'Very satisfied' or 'Slightly satisfied'\n",
    "dissatisfied = data[data['JobSat_Score'] < 3] # 'Very dissatisfied' or 'Slightly dissatisfied'"
   ]
  },
  {
   "cell_type": "code",
   "execution_count": 45,
   "id": "coastal-watch",
   "metadata": {},
   "outputs": [],
   "source": [
    "# clean df\n",
    "satisfied_perc = clean_df(satisfied, 'NEWJobHunt')\n",
    "dissatisfied_perc = clean_df(dissatisfied, 'NEWJobHunt')"
   ]
  },
  {
   "cell_type": "code",
   "execution_count": 46,
   "id": "square-performance",
   "metadata": {},
   "outputs": [
    {
     "data": {
      "text/html": [
       "<style  type=\"text/css\" >\n",
       "#T_905ab318_97e8_11eb_931b_7440bbff0792row0_col2{\n",
       "            width:  10em;\n",
       "             height:  80%;\n",
       "            background:  linear-gradient(90deg, transparent 56.2%, #5fbe65 56.2%, #5fbe65 74.4%, transparent 74.4%);\n",
       "        }#T_905ab318_97e8_11eb_931b_7440bbff0792row1_col2{\n",
       "            width:  10em;\n",
       "             height:  80%;\n",
       "            background:  linear-gradient(90deg, transparent 56.2%, #5fbe65 56.2%, #5fbe65 61.4%, transparent 61.4%);\n",
       "        }#T_905ab318_97e8_11eb_931b_7440bbff0792row2_col2{\n",
       "            width:  10em;\n",
       "             height:  80%;\n",
       "            background:  linear-gradient(90deg, transparent 56.2%, #5fbe65 56.2%, #5fbe65 100.0%, transparent 100.0%);\n",
       "        }#T_905ab318_97e8_11eb_931b_7440bbff0792row3_col2{\n",
       "            width:  10em;\n",
       "             height:  80%;\n",
       "            background:  linear-gradient(90deg, transparent 56.2%, #5fbe65 56.2%, #5fbe65 70.0%, transparent 70.0%);\n",
       "        }#T_905ab318_97e8_11eb_931b_7440bbff0792row4_col2{\n",
       "            width:  10em;\n",
       "             height:  80%;\n",
       "            background:  linear-gradient(90deg,#e55d5d 56.2%, transparent 56.2%);\n",
       "        }#T_905ab318_97e8_11eb_931b_7440bbff0792row5_col2{\n",
       "            width:  10em;\n",
       "             height:  80%;\n",
       "            background:  linear-gradient(90deg, transparent 56.2%, #5fbe65 56.2%, #5fbe65 78.5%, transparent 78.5%);\n",
       "        }#T_905ab318_97e8_11eb_931b_7440bbff0792row6_col2{\n",
       "            width:  10em;\n",
       "             height:  80%;\n",
       "            background:  linear-gradient(90deg, transparent 56.2%, #5fbe65 56.2%, #5fbe65 77.4%, transparent 77.4%);\n",
       "        }#T_905ab318_97e8_11eb_931b_7440bbff0792row7_col2{\n",
       "            width:  10em;\n",
       "             height:  80%;\n",
       "            background:  linear-gradient(90deg, transparent 9.6%, #e55d5d 9.6%, #e55d5d 56.2%, transparent 56.2%);\n",
       "        }#T_905ab318_97e8_11eb_931b_7440bbff0792row8_col2{\n",
       "            width:  10em;\n",
       "             height:  80%;\n",
       "            background:  linear-gradient(90deg, transparent 48.3%, #e55d5d 48.3%, #e55d5d 56.2%, transparent 56.2%);\n",
       "        }#T_905ab318_97e8_11eb_931b_7440bbff0792row9_col2{\n",
       "            width:  10em;\n",
       "             height:  80%;\n",
       "            background:  linear-gradient(90deg, transparent 56.2%, #5fbe65 56.2%, #5fbe65 56.2%, transparent 56.2%);\n",
       "        }#T_905ab318_97e8_11eb_931b_7440bbff0792row10_col2{\n",
       "            width:  10em;\n",
       "             height:  80%;\n",
       "            background:  linear-gradient(90deg, transparent 42.8%, #e55d5d 42.8%, #e55d5d 56.2%, transparent 56.2%);\n",
       "        }#T_905ab318_97e8_11eb_931b_7440bbff0792row11_col2{\n",
       "            width:  10em;\n",
       "             height:  80%;\n",
       "            background:  linear-gradient(90deg, transparent 56.2%, #5fbe65 56.2%, #5fbe65 56.3%, transparent 56.3%);\n",
       "        }</style><table id=\"T_905ab318_97e8_11eb_931b_7440bbff0792\" ><thead>    <tr>        <th class=\"blank level0\" ></th>        <th class=\"col_heading level0 col0\" >satisfied_perc</th>        <th class=\"col_heading level0 col1\" >dissatisfied_perc</th>        <th class=\"col_heading level0 col2\" >Diff_Satisfaction_Vals</th>    </tr>    <tr>        <th class=\"index_name level0\" >Factors</th>        <th class=\"blank\" ></th>        <th class=\"blank\" ></th>        <th class=\"blank\" ></th>    </tr></thead><tbody>\n",
       "                <tr>\n",
       "                        <th id=\"T_905ab318_97e8_11eb_931b_7440bbff0792level0_row0\" class=\"row_heading level0 row0\" >Better compensation</th>\n",
       "                        <td id=\"T_905ab318_97e8_11eb_931b_7440bbff0792row0_col0\" class=\"data row0 col0\" >0.173250</td>\n",
       "                        <td id=\"T_905ab318_97e8_11eb_931b_7440bbff0792row0_col1\" class=\"data row0 col1\" >0.165875</td>\n",
       "                        <td id=\"T_905ab318_97e8_11eb_931b_7440bbff0792row0_col2\" class=\"data row0 col2\" >0.007375</td>\n",
       "            </tr>\n",
       "            <tr>\n",
       "                        <th id=\"T_905ab318_97e8_11eb_931b_7440bbff0792level0_row1\" class=\"row_heading level0 row1\" >Better work/life balance</th>\n",
       "                        <td id=\"T_905ab318_97e8_11eb_931b_7440bbff0792row1_col0\" class=\"data row1 col0\" >0.113141</td>\n",
       "                        <td id=\"T_905ab318_97e8_11eb_931b_7440bbff0792row1_col1\" class=\"data row1 col1\" >0.111046</td>\n",
       "                        <td id=\"T_905ab318_97e8_11eb_931b_7440bbff0792row1_col2\" class=\"data row1 col2\" >0.002095</td>\n",
       "            </tr>\n",
       "            <tr>\n",
       "                        <th id=\"T_905ab318_97e8_11eb_931b_7440bbff0792level0_row2\" class=\"row_heading level0 row2\" >Curious about other opportunities</th>\n",
       "                        <td id=\"T_905ab318_97e8_11eb_931b_7440bbff0792row2_col0\" class=\"data row2 col0\" >0.144259</td>\n",
       "                        <td id=\"T_905ab318_97e8_11eb_931b_7440bbff0792row2_col1\" class=\"data row2 col1\" >0.126473</td>\n",
       "                        <td id=\"T_905ab318_97e8_11eb_931b_7440bbff0792row2_col2\" class=\"data row2 col2\" >0.017786</td>\n",
       "            </tr>\n",
       "            <tr>\n",
       "                        <th id=\"T_905ab318_97e8_11eb_931b_7440bbff0792level0_row3\" class=\"row_heading level0 row3\" >Growth or leadership opportunities</th>\n",
       "                        <td id=\"T_905ab318_97e8_11eb_931b_7440bbff0792row3_col0\" class=\"data row3 col0\" >0.128601</td>\n",
       "                        <td id=\"T_905ab318_97e8_11eb_931b_7440bbff0792row3_col1\" class=\"data row3 col1\" >0.123018</td>\n",
       "                        <td id=\"T_905ab318_97e8_11eb_931b_7440bbff0792row3_col2\" class=\"data row3 col2\" >0.005583</td>\n",
       "            </tr>\n",
       "            <tr>\n",
       "                        <th id=\"T_905ab318_97e8_11eb_931b_7440bbff0792level0_row4\" class=\"row_heading level0 row4\" >Having a bad day (or week or month) at work</th>\n",
       "                        <td id=\"T_905ab318_97e8_11eb_931b_7440bbff0792row4_col0\" class=\"data row4 col0\" >0.044936</td>\n",
       "                        <td id=\"T_905ab318_97e8_11eb_931b_7440bbff0792row4_col1\" class=\"data row4 col1\" >0.067788</td>\n",
       "                        <td id=\"T_905ab318_97e8_11eb_931b_7440bbff0792row4_col2\" class=\"data row4 col2\" >-0.022852</td>\n",
       "            </tr>\n",
       "            <tr>\n",
       "                        <th id=\"T_905ab318_97e8_11eb_931b_7440bbff0792level0_row5\" class=\"row_heading level0 row5\" >Just because</th>\n",
       "                        <td id=\"T_905ab318_97e8_11eb_931b_7440bbff0792row5_col0\" class=\"data row5 col0\" >0.030695</td>\n",
       "                        <td id=\"T_905ab318_97e8_11eb_931b_7440bbff0792row5_col1\" class=\"data row5 col1\" >0.021660</td>\n",
       "                        <td id=\"T_905ab318_97e8_11eb_931b_7440bbff0792row5_col2\" class=\"data row5 col2\" >0.009035</td>\n",
       "            </tr>\n",
       "            <tr>\n",
       "                        <th id=\"T_905ab318_97e8_11eb_931b_7440bbff0792level0_row6\" class=\"row_heading level0 row6\" >Looking to relocate</th>\n",
       "                        <td id=\"T_905ab318_97e8_11eb_931b_7440bbff0792row6_col0\" class=\"data row6 col0\" >0.066352</td>\n",
       "                        <td id=\"T_905ab318_97e8_11eb_931b_7440bbff0792row6_col1\" class=\"data row6 col1\" >0.057760</td>\n",
       "                        <td id=\"T_905ab318_97e8_11eb_931b_7440bbff0792row6_col2\" class=\"data row6 col2\" >0.008592</td>\n",
       "            </tr>\n",
       "            <tr>\n",
       "                        <th id=\"T_905ab318_97e8_11eb_931b_7440bbff0792level0_row7\" class=\"row_heading level0 row7\" >Trouble with leadership at my company</th>\n",
       "                        <td id=\"T_905ab318_97e8_11eb_931b_7440bbff0792row7_col0\" class=\"data row7 col0\" >0.064139</td>\n",
       "                        <td id=\"T_905ab318_97e8_11eb_931b_7440bbff0792row7_col1\" class=\"data row7 col1\" >0.083092</td>\n",
       "                        <td id=\"T_905ab318_97e8_11eb_931b_7440bbff0792row7_col2\" class=\"data row7 col2\" >-0.018953</td>\n",
       "            </tr>\n",
       "            <tr>\n",
       "                        <th id=\"T_905ab318_97e8_11eb_931b_7440bbff0792level0_row8\" class=\"row_heading level0 row8\" >Trouble with my direct manager</th>\n",
       "                        <td id=\"T_905ab318_97e8_11eb_931b_7440bbff0792row8_col0\" class=\"data row8 col0\" >0.042995</td>\n",
       "                        <td id=\"T_905ab318_97e8_11eb_931b_7440bbff0792row8_col1\" class=\"data row8 col1\" >0.046220</td>\n",
       "                        <td id=\"T_905ab318_97e8_11eb_931b_7440bbff0792row8_col2\" class=\"data row8 col2\" >-0.003225</td>\n",
       "            </tr>\n",
       "            <tr>\n",
       "                        <th id=\"T_905ab318_97e8_11eb_931b_7440bbff0792level0_row9\" class=\"row_heading level0 row9\" >Trouble with my teammates</th>\n",
       "                        <td id=\"T_905ab318_97e8_11eb_931b_7440bbff0792row9_col0\" class=\"data row9 col0\" >0.030583</td>\n",
       "                        <td id=\"T_905ab318_97e8_11eb_931b_7440bbff0792row9_col1\" class=\"data row9 col1\" >0.030577</td>\n",
       "                        <td id=\"T_905ab318_97e8_11eb_931b_7440bbff0792row9_col2\" class=\"data row9 col2\" >0.000006</td>\n",
       "            </tr>\n",
       "            <tr>\n",
       "                        <th id=\"T_905ab318_97e8_11eb_931b_7440bbff0792level0_row10\" class=\"row_heading level0 row10\" >Wanting to share accomplishments with a wider network</th>\n",
       "                        <td id=\"T_905ab318_97e8_11eb_931b_7440bbff0792row10_col0\" class=\"data row10 col0\" >0.020285</td>\n",
       "                        <td id=\"T_905ab318_97e8_11eb_931b_7440bbff0792row10_col1\" class=\"data row10 col1\" >0.025764</td>\n",
       "                        <td id=\"T_905ab318_97e8_11eb_931b_7440bbff0792row10_col2\" class=\"data row10 col2\" >-0.005479</td>\n",
       "            </tr>\n",
       "            <tr>\n",
       "                        <th id=\"T_905ab318_97e8_11eb_931b_7440bbff0792level0_row11\" class=\"row_heading level0 row11\" >Wanting to work with new technologies</th>\n",
       "                        <td id=\"T_905ab318_97e8_11eb_931b_7440bbff0792row11_col0\" class=\"data row11 col0\" >0.140764</td>\n",
       "                        <td id=\"T_905ab318_97e8_11eb_931b_7440bbff0792row11_col1\" class=\"data row11 col1\" >0.140728</td>\n",
       "                        <td id=\"T_905ab318_97e8_11eb_931b_7440bbff0792row11_col2\" class=\"data row11 col2\" >0.000036</td>\n",
       "            </tr>\n",
       "    </tbody></table>"
      ],
      "text/plain": [
       "<pandas.io.formats.style.Styler at 0x1fd88ce6f60>"
      ]
     },
     "execution_count": 46,
     "metadata": {},
     "output_type": "execute_result"
    }
   ],
   "source": [
    "# compares factors considering satisfaction \n",
    "comp_df = pd.merge(satisfied_perc, dissatisfied_perc, left_index=True, right_index=True)\n",
    "comp_df.columns = ['satisfied_perc', 'dissatisfied_perc']\n",
    "comp_df['Diff_Satisfaction_Vals'] = comp_df['satisfied_perc'] - comp_df['dissatisfied_perc']\n",
    "comp_df.style.bar(subset=['Diff_Satisfaction_Vals'], align='mid', color=['#e55d5d', '#5fbe65'])"
   ]
  },
  {
   "cell_type": "code",
   "execution_count": 47,
   "id": "proud-landing",
   "metadata": {},
   "outputs": [
    {
     "data": {
      "image/png": "[encoded data removed]",
      "text/plain": [
       "<Figure size 864x432 with 1 Axes>"
      ]
     },
     "metadata": {
      "needs_background": "light"
     },
     "output_type": "display_data"
    }
   ],
   "source": [
    "comp_df2 = comp_df.reset_index()\n",
    "\n",
    "# plot \n",
    "plt.figure(figsize=(12, 6))\n",
    "ax = sns.barplot(x=comp_df2['Factors'], y=comp_df2['Diff_Satisfaction_Vals'], palette=\"viridis\")\n",
    "plt.title(textwrap.fill(questions.loc['NEWJobHunt', 'QuestionText'], width=100))\n",
    "plt.xticks(rotation=45, horizontalalignment='right')\n",
    "ax.axhline(0, color=\"k\", clip_on=False)\n",
    "sns.despine(bottom=True)\n"
   ]
  },
  {
   "cell_type": "markdown",
   "id": "paperback-telephone",
   "metadata": {},
   "source": [
    "The factors that lead developers to look for a new opportunity are many, and satisfaction with the current job has some impact on these reasons:    \n",
    "\n",
    "* **Satisfied devs** drive curiosity about other opportunities and seek mainly better compensation, growth or leadership opportunities, and relocating options.    \n",
    "\n",
    "\n",
    "* **Dissatisfied devs** seek new opportunities mainly because they are having a bad day (or week, or month) in the company, also due to leadership problems in the company or problems with the immediate manager (it seems that we found an important clue about the dissatisfaction of these professionals!).\n"
   ]
  },
  {
   "cell_type": "markdown",
   "id": "duplicate-polymer",
   "metadata": {},
   "source": [
    "---"
   ]
  },
  {
   "cell_type": "markdown",
   "id": "heavy-alliance",
   "metadata": {},
   "source": [
    "\n",
    "* **How do developers learn more about a company?**\n"
   ]
  },
  {
   "cell_type": "code",
   "execution_count": 48,
   "id": "rising-perception",
   "metadata": {},
   "outputs": [
    {
     "data": {
      "image/png": "[encoded data removed]",
      "text/plain": [
       "<Figure size 720x360 with 1 Axes>"
      ]
     },
     "metadata": {
      "needs_background": "light"
     },
     "output_type": "display_data"
    }
   ],
   "source": [
    "split_plot('NEWJobHuntResearch')"
   ]
  },
  {
   "cell_type": "markdown",
   "id": "automated-assistant",
   "metadata": {},
   "source": [
    "When looking for a new job, other people's opinion are important!    \n",
    "* Developers mainly seek company reviews on third-party sites like Glassdoor, read company media, such as employee blogs or company culture videos, and ask friends or family."
   ]
  },
  {
   "cell_type": "markdown",
   "id": "signal-falls",
   "metadata": {},
   "source": [
    "---"
   ]
  },
  {
   "cell_type": "code",
   "execution_count": 49,
   "id": "periodic-michigan",
   "metadata": {},
   "outputs": [],
   "source": [
    "#author: @priscillapreks\n",
    "#date: apr/2021"
   ]
  }
 ],
 "metadata": {
  "kernelspec": {
   "display_name": "Python 3",
   "language": "python",
   "name": "python3"
  },
  "language_info": {
   "codemirror_mode": {
    "name": "ipython",
    "version": 3
   },
   "file_extension": ".py",
   "mimetype": "text/x-python",
   "name": "python",
   "nbconvert_exporter": "python",
   "pygments_lexer": "ipython3",
   "version": "3.6.5"
  }
 },
 "nbformat": 4,
 "nbformat_minor": 5
}
